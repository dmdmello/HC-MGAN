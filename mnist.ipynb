{
 "cells": [
  {
   "cell_type": "code",
   "execution_count": null,
   "id": "e457022f-6975-405a-981e-a248146c66f2",
   "metadata": {
    "scrolled": true,
    "tags": []
   },
   "outputs": [],
   "source": [
    "import os\n",
    "import sys\n",
    "from utils.data import create_dataloader, merge_dataloaders\n",
    "from tree.tree import Node, grow_tree_from_root\n",
    "import torch\n",
    "\n",
    "class Args():\n",
    "    def __init__(self):\n",
    "        self = self\n",
    "args = Args()\n",
    "\n",
    "\n",
    "#main config\n",
    "args.dataset_path = 'data' #Path for folder containing the dataset root folder\n",
    "args.logs_path = 'experiment_logs_mnist_notebook' #Folder for saving all logs (replaces previous logs in the folder if any)\n",
    "args.root_node_name = 'Z' #Name for the root node of the tree\n",
    "args.device=0 #change to select another device\n",
    "args.amp_enable = False #enables automatic mixed precision if available (executes a lot faster)\n",
    "\n",
    "\n",
    "#architecture/model parameters\n",
    "args.nf_g = 128 #Number of feature maps for generator\n",
    "args.nf_d = 128 #Number of feature maps for discriminator/classifier\n",
    "args.kernel_size_g = 4 #Size of kernel for generators\n",
    "args.kernel_size_d = 5 #Size of kernel for discriminator/classifier\n",
    "args.normalization_d = 'layer_norm' #Type of normalization layer used for discriminator/classifier\n",
    "args.normalization_g = 'no_norm' #Type of normalization layer used for generator\n",
    "args.architecture_d = 'cnn' #Specific architecture choice for for discriminator/classifier\n",
    "args.architecture_g = 'cnn' #Specific architecture choice for for generator\n",
    "args.img_channels = 1 #Number of channels used for intended types of images\n",
    "args.latent_dim = 100 #Dimension of generator's latent space\n",
    "args.batch_size_real = 100 #Minibatch size for real images\n",
    "args.batch_size_gen = 100 #Minibatch size for generated images \n",
    "args.img_dim = 28 #Image dimensions\n",
    "args.shared_features_across_ref = False #Shares encoder features among parallel refinement groups \n",
    "\n",
    "\n",
    "#training parameters\n",
    "args.lr_d = 0.0001 #Learning rate for discriminator\n",
    "args.lr_c = 0.00002 #Learning rate for classifier\n",
    "args.lr_g = 0.0002 #Learning rate for generator\n",
    "args.b1 = 0.5 # Learning rate for generator\n",
    "args.b2 = 0.999 #Adam optimizer beta 2 parameter\n",
    "args.noise_start = 1.0 #Start image noise intensity linearly decaying throughout each GAN/MGAN training\n",
    "args.epochs_raw_split = 100 #Number of epochs for raw split training\n",
    "args.epochs_refinement = 100 #Number of epochs for refinement training\n",
    "args.diversity_parameter_g = 1.0 #Hyperparameter for weighting generators' classification loss component\n",
    "args.no_refinements = 8 #Number of refinements in each split\n",
    "args.no_splits = 9 #Number of splits during tree growth\n",
    "args.collapse_check_epoch = 40 #Epoch after which to check for generation collapse\n",
    "args.sample_interval = 10 #No. of epochs between printring/saving training logs\n",
    "args.min_prob_mass_variation = 150 #If the total prob mass variation between two consecutive refinements is less than this number, to save up time, the next refinements are skipped for that node\n",
    "\n",
    "\n",
    "torch.cuda.set_device(args.device)      \n",
    "\n",
    "dataloader_train = create_dataloader(dataset='mnist', test=False, batch_size=args.batch_size_real,  path=args.dataset_path)\n",
    "dataloader_test = create_dataloader(dataset='mnist', test=True, batch_size=args.batch_size_real,  path=args.dataset_path)\n",
    "dataloader_train = merge_dataloaders(dataloader_train, dataloader_test)"
   ]
  },
  {
   "cell_type": "code",
   "execution_count": null,
   "id": "9d1127a3-3db9-492c-8428-abf0f237155c",
   "metadata": {
    "scrolled": true,
    "tags": []
   },
   "outputs": [],
   "source": [
    "root_node = Node(args.root_node_name, dataloader_train.sampler.weights, args.logs_path)\n",
    "grow_tree_from_root(root_node, dataloader_train, args)\n",
    "                    \n"
   ]
  },
  {
   "cell_type": "code",
   "execution_count": null,
   "id": "63d03b0d-10a6-42c7-9dc2-1108a09fbbb9",
   "metadata": {},
   "outputs": [],
   "source": []
  },
  {
   "cell_type": "code",
   "execution_count": null,
   "id": "50a8fa0a-34f1-4523-8ae3-aaf4c09831cf",
   "metadata": {},
   "outputs": [],
   "source": []
  },
  {
   "cell_type": "code",
   "execution_count": null,
   "id": "45e8e6e8-bc4c-4425-bb69-d3f9973b47d5",
   "metadata": {},
   "outputs": [],
   "source": []
  },
  {
   "cell_type": "code",
   "execution_count": null,
   "id": "bddeffc1-42a3-4075-a1fd-db04cf459c80",
   "metadata": {},
   "outputs": [],
   "source": []
  },
  {
   "cell_type": "code",
   "execution_count": null,
   "id": "7b573431-9ad4-4d03-be71-c4b885ba5987",
   "metadata": {},
   "outputs": [],
   "source": []
  },
  {
   "cell_type": "code",
   "execution_count": null,
   "id": "15670f7b-9a7e-4faa-ba22-579e5519fc46",
   "metadata": {},
   "outputs": [],
   "source": []
  },
  {
   "cell_type": "code",
   "execution_count": null,
   "id": "238ae9ae-623b-4006-97b2-4ffdccd059f1",
   "metadata": {},
   "outputs": [],
   "source": []
  },
  {
   "cell_type": "code",
   "execution_count": null,
   "id": "f9280bb5-66d9-4f7b-a38b-de05215e0fe4",
   "metadata": {},
   "outputs": [],
   "source": []
  },
  {
   "cell_type": "code",
   "execution_count": null,
   "id": "643f5ff5-2152-4c53-b292-9aae23a0129f",
   "metadata": {},
   "outputs": [],
   "source": []
  }
 ],
 "metadata": {
  "kernelspec": {
   "display_name": "Python 3",
   "language": "python",
   "name": "python3"
  },
  "language_info": {
   "codemirror_mode": {
    "name": "ipython",
    "version": 3
   },
   "file_extension": ".py",
   "mimetype": "text/x-python",
   "name": "python",
   "nbconvert_exporter": "python",
   "pygments_lexer": "ipython3",
   "version": "3.9.6"
  }
 },
 "nbformat": 4,
 "nbformat_minor": 5
}
